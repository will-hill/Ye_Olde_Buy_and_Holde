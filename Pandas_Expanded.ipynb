{
 "cells": [
  {
   "cell_type": "markdown",
   "id": "f7b12638-8eb6-4dd7-b8a4-7754ee7f0f6a",
   "metadata": {},
   "source": [
    "# Get Index ETF Data"
   ]
  },
  {
   "cell_type": "code",
   "execution_count": 1,
   "id": "93ad97e6-990c-4c94-a77b-f02d364ca95f",
   "metadata": {},
   "outputs": [
    {
     "data": {
      "text/html": [
       "<div>\n",
       "<style scoped>\n",
       "    .dataframe tbody tr th:only-of-type {\n",
       "        vertical-align: middle;\n",
       "    }\n",
       "\n",
       "    .dataframe tbody tr th {\n",
       "        vertical-align: top;\n",
       "    }\n",
       "\n",
       "    .dataframe thead th {\n",
       "        text-align: right;\n",
       "    }\n",
       "</style>\n",
       "<table border=\"1\" class=\"dataframe\">\n",
       "  <thead>\n",
       "    <tr style=\"text-align: right;\">\n",
       "      <th></th>\n",
       "      <th>date</th>\n",
       "      <th>ticker</th>\n",
       "      <th>close</th>\n",
       "    </tr>\n",
       "  </thead>\n",
       "  <tbody>\n",
       "    <tr>\n",
       "      <th>0</th>\n",
       "      <td>1993-01-29</td>\n",
       "      <td>SPY</td>\n",
       "      <td>43.937500</td>\n",
       "    </tr>\n",
       "    <tr>\n",
       "      <th>1</th>\n",
       "      <td>1993-02-01</td>\n",
       "      <td>SPY</td>\n",
       "      <td>44.250000</td>\n",
       "    </tr>\n",
       "    <tr>\n",
       "      <th>2</th>\n",
       "      <td>1993-02-02</td>\n",
       "      <td>SPY</td>\n",
       "      <td>44.343750</td>\n",
       "    </tr>\n",
       "    <tr>\n",
       "      <th>3</th>\n",
       "      <td>1993-02-03</td>\n",
       "      <td>SPY</td>\n",
       "      <td>44.812500</td>\n",
       "    </tr>\n",
       "    <tr>\n",
       "      <th>4</th>\n",
       "      <td>1993-02-04</td>\n",
       "      <td>SPY</td>\n",
       "      <td>45.000000</td>\n",
       "    </tr>\n",
       "    <tr>\n",
       "      <th>...</th>\n",
       "      <td>...</td>\n",
       "      <td>...</td>\n",
       "      <td>...</td>\n",
       "    </tr>\n",
       "    <tr>\n",
       "      <th>8010</th>\n",
       "      <td>2024-11-20</td>\n",
       "      <td>SPY</td>\n",
       "      <td>590.500000</td>\n",
       "    </tr>\n",
       "    <tr>\n",
       "      <th>8011</th>\n",
       "      <td>2024-11-21</td>\n",
       "      <td>SPY</td>\n",
       "      <td>593.669983</td>\n",
       "    </tr>\n",
       "    <tr>\n",
       "      <th>8012</th>\n",
       "      <td>2024-11-22</td>\n",
       "      <td>SPY</td>\n",
       "      <td>595.510010</td>\n",
       "    </tr>\n",
       "    <tr>\n",
       "      <th>8013</th>\n",
       "      <td>2024-11-25</td>\n",
       "      <td>SPY</td>\n",
       "      <td>597.530029</td>\n",
       "    </tr>\n",
       "    <tr>\n",
       "      <th>8014</th>\n",
       "      <td>2024-11-26</td>\n",
       "      <td>SPY</td>\n",
       "      <td>600.650024</td>\n",
       "    </tr>\n",
       "  </tbody>\n",
       "</table>\n",
       "<p>8015 rows × 3 columns</p>\n",
       "</div>"
      ],
      "text/plain": [
       "           date ticker       close\n",
       "0    1993-01-29    SPY   43.937500\n",
       "1    1993-02-01    SPY   44.250000\n",
       "2    1993-02-02    SPY   44.343750\n",
       "3    1993-02-03    SPY   44.812500\n",
       "4    1993-02-04    SPY   45.000000\n",
       "...         ...    ...         ...\n",
       "8010 2024-11-20    SPY  590.500000\n",
       "8011 2024-11-21    SPY  593.669983\n",
       "8012 2024-11-22    SPY  595.510010\n",
       "8013 2024-11-25    SPY  597.530029\n",
       "8014 2024-11-26    SPY  600.650024\n",
       "\n",
       "[8015 rows x 3 columns]"
      ]
     },
     "execution_count": 1,
     "metadata": {},
     "output_type": "execute_result"
    }
   ],
   "source": [
    "def get_data(tickers: str = None):\n",
    "    import yfinance as yf\n",
    "    import pandas as pd\n",
    "\n",
    "    df = yf.download(tickers,\n",
    "                     period='max',\n",
    "                     interval='1d',\n",
    "                     # start=\"2020-12-01\",\n",
    "                     # end=\"2023-12-31\",\n",
    "                     group_by=\"ticker\",\n",
    "                     back_adjust=True,\n",
    "                     progress=False)\n",
    "\n",
    "    df = df.stack(level=0, future_stack=True).reset_index()\n",
    "    df.columns = [col.lower() for col in df.columns]\n",
    "    df = df.dropna()\n",
    "    df = df[[\"date\", \"ticker\", \"close\"]]\n",
    "    df[\"date\"] = pd.to_datetime(df[\"date\"].dt.date)\n",
    "    df = df.sort_values([\"ticker\", \"date\"], ascending=[True, True])\n",
    "    df = df.reset_index(drop=True)\n",
    "    return df\n",
    "\n",
    "spy_df = get_data(tickers = ['SPY'])\n",
    "spy_df"
   ]
  },
  {
   "cell_type": "markdown",
   "id": "3ace3198-698a-4af1-a1e8-4efe032a9572",
   "metadata": {},
   "source": [
    "  "
   ]
  },
  {
   "cell_type": "markdown",
   "id": "f013c8e4-6195-4d5c-ab29-acca14ce83cc",
   "metadata": {},
   "source": [
    "  "
   ]
  },
  {
   "cell_type": "markdown",
   "id": "db0356ea-a31b-47e6-bc81-9dfe67446d4a",
   "metadata": {},
   "source": [
    "  "
   ]
  },
  {
   "cell_type": "markdown",
   "id": "882ee36f-d030-4a48-a089-11dd19278ab0",
   "metadata": {},
   "source": [
    "  "
   ]
  },
  {
   "cell_type": "markdown",
   "id": "ff954213-b28d-4efd-a034-ff0ed0d5cd73",
   "metadata": {},
   "source": [
    "### Risk Free Rate"
   ]
  },
  {
   "cell_type": "code",
   "execution_count": 2,
   "id": "f01d661b-f545-4cad-95cd-88315554c5d4",
   "metadata": {},
   "outputs": [
    {
     "data": {
      "text/plain": [
       "0.04304"
      ]
     },
     "execution_count": 2,
     "metadata": {},
     "output_type": "execute_result"
    }
   ],
   "source": [
    "# 10 year\n",
    "0.04304"
   ]
  },
  {
   "cell_type": "code",
   "execution_count": 3,
   "id": "fdc4230a-fafb-4681-9fea-6b0e5d0c8fac",
   "metadata": {},
   "outputs": [
    {
     "data": {
      "text/plain": [
       "0.043040068291641864"
      ]
     },
     "execution_count": 3,
     "metadata": {},
     "output_type": "execute_result"
    }
   ],
   "source": [
    "daily_risk_free_rate = 0.0000167222\n",
    "\n",
    "((1 + daily_risk_free_rate) ** (252*10)) - 1"
   ]
  },
  {
   "cell_type": "markdown",
   "id": "a706592e-26c9-478b-b42f-b7d77d852021",
   "metadata": {},
   "source": [
    "  "
   ]
  },
  {
   "cell_type": "markdown",
   "id": "7c673500-d65b-4a48-b67a-80ec46df43c1",
   "metadata": {},
   "source": [
    "  "
   ]
  },
  {
   "cell_type": "markdown",
   "id": "c880cd1f-ba30-4bae-a1ed-47c9090e8494",
   "metadata": {},
   "source": [
    "  "
   ]
  },
  {
   "cell_type": "markdown",
   "id": "641ea58f-489b-4fdb-b3fc-9fbd948baca8",
   "metadata": {},
   "source": [
    "# Quants Combined"
   ]
  },
  {
   "cell_type": "code",
   "execution_count": 6,
   "id": "c0356321-5d1f-4281-89ab-8e90558d7c64",
   "metadata": {},
   "outputs": [],
   "source": [
    "def calc_backtest(df):\n",
    "\n",
    "    #roi\n",
    "    df[\"cumulative_returns\"] = ( 1 + df['close'].pct_change() ).cumprod() - 1\n",
    "    \n",
    "    # mdd\n",
    "    df['rolling_max_drawdown'] = ((df['close'] - (df['close'].cummax())) / df['close'].cummax()).cummin()\n",
    "    \n",
    "    # sharpe\n",
    "    df['cumulative_sharpe'] = ( df['close'].pct_change() - daily_risk_free_rate  ).expanding().mean() / df['close'].pct_change().expanding().std()\n",
    "\n",
    "    return df"
   ]
  },
  {
   "cell_type": "code",
   "execution_count": 5,
   "id": "baaee5e7-8e04-4e1c-9219-f1a9939ec76b",
   "metadata": {},
   "outputs": [
    {
     "data": {
      "text/html": [
       "<div>\n",
       "<style scoped>\n",
       "    .dataframe tbody tr th:only-of-type {\n",
       "        vertical-align: middle;\n",
       "    }\n",
       "\n",
       "    .dataframe tbody tr th {\n",
       "        vertical-align: top;\n",
       "    }\n",
       "\n",
       "    .dataframe thead th {\n",
       "        text-align: right;\n",
       "    }\n",
       "</style>\n",
       "<table border=\"1\" class=\"dataframe\">\n",
       "  <thead>\n",
       "    <tr style=\"text-align: right;\">\n",
       "      <th></th>\n",
       "      <th>date</th>\n",
       "      <th>ticker</th>\n",
       "      <th>close</th>\n",
       "      <th>cumulative_returns</th>\n",
       "      <th>rolling_max_drawdown</th>\n",
       "      <th>cumulative_sharpe</th>\n",
       "    </tr>\n",
       "  </thead>\n",
       "  <tbody>\n",
       "    <tr>\n",
       "      <th>0</th>\n",
       "      <td>1993-01-29</td>\n",
       "      <td>SPY</td>\n",
       "      <td>43.937500</td>\n",
       "      <td>NaN</td>\n",
       "      <td>0.000000</td>\n",
       "      <td>NaN</td>\n",
       "    </tr>\n",
       "    <tr>\n",
       "      <th>1</th>\n",
       "      <td>1993-02-01</td>\n",
       "      <td>SPY</td>\n",
       "      <td>44.250000</td>\n",
       "      <td>0.007112</td>\n",
       "      <td>0.000000</td>\n",
       "      <td>NaN</td>\n",
       "    </tr>\n",
       "    <tr>\n",
       "      <th>2</th>\n",
       "      <td>1993-02-02</td>\n",
       "      <td>SPY</td>\n",
       "      <td>44.343750</td>\n",
       "      <td>0.009246</td>\n",
       "      <td>0.000000</td>\n",
       "      <td>1.302366</td>\n",
       "    </tr>\n",
       "    <tr>\n",
       "      <th>3</th>\n",
       "      <td>1993-02-03</td>\n",
       "      <td>SPY</td>\n",
       "      <td>44.812500</td>\n",
       "      <td>0.019915</td>\n",
       "      <td>0.000000</td>\n",
       "      <td>1.549419</td>\n",
       "    </tr>\n",
       "    <tr>\n",
       "      <th>4</th>\n",
       "      <td>1993-02-04</td>\n",
       "      <td>SPY</td>\n",
       "      <td>45.000000</td>\n",
       "      <td>0.024182</td>\n",
       "      <td>0.000000</td>\n",
       "      <td>1.627643</td>\n",
       "    </tr>\n",
       "    <tr>\n",
       "      <th>...</th>\n",
       "      <td>...</td>\n",
       "      <td>...</td>\n",
       "      <td>...</td>\n",
       "      <td>...</td>\n",
       "      <td>...</td>\n",
       "      <td>...</td>\n",
       "    </tr>\n",
       "    <tr>\n",
       "      <th>8010</th>\n",
       "      <td>2024-11-20</td>\n",
       "      <td>SPY</td>\n",
       "      <td>590.500000</td>\n",
       "      <td>12.439545</td>\n",
       "      <td>-0.564737</td>\n",
       "      <td>0.032057</td>\n",
       "    </tr>\n",
       "    <tr>\n",
       "      <th>8011</th>\n",
       "      <td>2024-11-21</td>\n",
       "      <td>SPY</td>\n",
       "      <td>593.669983</td>\n",
       "      <td>12.511692</td>\n",
       "      <td>-0.564737</td>\n",
       "      <td>0.032111</td>\n",
       "    </tr>\n",
       "    <tr>\n",
       "      <th>8012</th>\n",
       "      <td>2024-11-22</td>\n",
       "      <td>SPY</td>\n",
       "      <td>595.510010</td>\n",
       "      <td>12.553571</td>\n",
       "      <td>-0.564737</td>\n",
       "      <td>0.032142</td>\n",
       "    </tr>\n",
       "    <tr>\n",
       "      <th>8013</th>\n",
       "      <td>2024-11-25</td>\n",
       "      <td>SPY</td>\n",
       "      <td>597.530029</td>\n",
       "      <td>12.599545</td>\n",
       "      <td>-0.564737</td>\n",
       "      <td>0.032176</td>\n",
       "    </tr>\n",
       "    <tr>\n",
       "      <th>8014</th>\n",
       "      <td>2024-11-26</td>\n",
       "      <td>SPY</td>\n",
       "      <td>600.650024</td>\n",
       "      <td>12.670555</td>\n",
       "      <td>-0.564737</td>\n",
       "      <td>0.032229</td>\n",
       "    </tr>\n",
       "  </tbody>\n",
       "</table>\n",
       "<p>8015 rows × 6 columns</p>\n",
       "</div>"
      ],
      "text/plain": [
       "           date ticker       close  cumulative_returns  rolling_max_drawdown  \\\n",
       "0    1993-01-29    SPY   43.937500                 NaN              0.000000   \n",
       "1    1993-02-01    SPY   44.250000            0.007112              0.000000   \n",
       "2    1993-02-02    SPY   44.343750            0.009246              0.000000   \n",
       "3    1993-02-03    SPY   44.812500            0.019915              0.000000   \n",
       "4    1993-02-04    SPY   45.000000            0.024182              0.000000   \n",
       "...         ...    ...         ...                 ...                   ...   \n",
       "8010 2024-11-20    SPY  590.500000           12.439545             -0.564737   \n",
       "8011 2024-11-21    SPY  593.669983           12.511692             -0.564737   \n",
       "8012 2024-11-22    SPY  595.510010           12.553571             -0.564737   \n",
       "8013 2024-11-25    SPY  597.530029           12.599545             -0.564737   \n",
       "8014 2024-11-26    SPY  600.650024           12.670555             -0.564737   \n",
       "\n",
       "      cumulative_sharpe  \n",
       "0                   NaN  \n",
       "1                   NaN  \n",
       "2              1.302366  \n",
       "3              1.549419  \n",
       "4              1.627643  \n",
       "...                 ...  \n",
       "8010           0.032057  \n",
       "8011           0.032111  \n",
       "8012           0.032142  \n",
       "8013           0.032176  \n",
       "8014           0.032229  \n",
       "\n",
       "[8015 rows x 6 columns]"
      ]
     },
     "execution_count": 5,
     "metadata": {},
     "output_type": "execute_result"
    }
   ],
   "source": [
    "calc_backtest(spy_df)"
   ]
  },
  {
   "cell_type": "markdown",
   "id": "5f447171-42cc-4b15-b14b-f73278dbe5f2",
   "metadata": {},
   "source": [
    "  "
   ]
  },
  {
   "cell_type": "markdown",
   "id": "189ebd0d-f69e-4e75-b23f-f583fe89a734",
   "metadata": {},
   "source": [
    "  "
   ]
  },
  {
   "cell_type": "markdown",
   "id": "2892ffdc-6af2-4e09-a9fd-b24941d0deae",
   "metadata": {},
   "source": [
    "  "
   ]
  },
  {
   "cell_type": "markdown",
   "id": "2be636c8-b33a-4709-bda6-6c5a515c8b5b",
   "metadata": {},
   "source": [
    "  "
   ]
  },
  {
   "cell_type": "markdown",
   "id": "6cd84c7f-3cc3-4c2e-a6b8-8f96c2c879df",
   "metadata": {},
   "source": [
    "  "
   ]
  },
  {
   "cell_type": "markdown",
   "id": "012ea744-469e-4035-bd31-4a1470d2bc55",
   "metadata": {},
   "source": [
    "  "
   ]
  },
  {
   "cell_type": "markdown",
   "id": "dc031886-c655-4020-85ee-0da9b96ccdf0",
   "metadata": {},
   "source": [
    "# Loop over windows sizes 1 year to 32.5 year"
   ]
  },
  {
   "cell_type": "code",
   "execution_count": 8,
   "id": "b9b1b39d-2030-4067-9e66-14f2f0565e4d",
   "metadata": {},
   "outputs": [
    {
     "name": "stdout",
     "output_type": "stream",
     "text": [
      "[252, 378, 504, 630, 756, 882, 1008, 1134, 1260, 1386, 1512, 1638, 1764, 1890, 2016, 2142, 2268, 2394, 2520, 2646, 2772, 2898, 3024, 3150, 3276, 3402, 3528, 3654, 3780, 3906, 4032, 4158, 4284, 4410, 4536, 4662, 4788, 4914, 5040, 5166, 5292, 5418, 5544, 5670, 5796, 5922, 6048, 6174, 6300, 6426, 6552, 6678, 6804, 6930, 7056, 7182, 7308, 7434, 7560, 7686, 7812, 7938]\n"
     ]
    }
   ],
   "source": [
    "investment_window_sizes = list(range(252, 252*32, 252 // 2))\n",
    "print(investment_window_sizes)"
   ]
  },
  {
   "cell_type": "markdown",
   "id": "dd9d547b-fdf4-49c8-b2cc-4697ae29d617",
   "metadata": {},
   "source": [
    "  "
   ]
  },
  {
   "cell_type": "markdown",
   "id": "7ec496b3-377b-48ab-a9f1-2b2f27ae5da7",
   "metadata": {},
   "source": [
    "  "
   ]
  },
  {
   "cell_type": "markdown",
   "id": "d95ce3cb-db42-4b2e-912f-caca94c32862",
   "metadata": {},
   "source": [
    "### Start at beginning Jan 29, 1993 and shift window, 1 day at a time"
   ]
  },
  {
   "cell_type": "code",
   "execution_count": 9,
   "id": "0a02d83b-1e9d-49c7-880c-a0fcaeb0a9c1",
   "metadata": {},
   "outputs": [],
   "source": [
    "investment_windows = []\n",
    "\n",
    "# loop over various investment periods \n",
    "for investment_window_size in investment_window_sizes:\n",
    "    \n",
    "    # loop over day ranges in entire history\n",
    "    for i in range(0, len(spy_df)-investment_window_size + 1):\n",
    "\n",
    "        investment_windows.append(dict(start_idx = i, end_idx = i + investment_window_size, window_size = investment_window_size))"
   ]
  },
  {
   "cell_type": "code",
   "execution_count": 10,
   "id": "bfaec541-a34b-43f5-bcf8-221058795b42",
   "metadata": {},
   "outputs": [
    {
     "data": {
      "text/plain": [
       "243102"
      ]
     },
     "execution_count": 10,
     "metadata": {},
     "output_type": "execute_result"
    }
   ],
   "source": [
    "len(investment_windows)"
   ]
  },
  {
   "cell_type": "code",
   "execution_count": 11,
   "id": "699d5441-d889-430b-88e7-22758cebc1ae",
   "metadata": {},
   "outputs": [
    {
     "data": {
      "text/plain": [
       "{'start_idx': 0, 'end_idx': 252, 'window_size': 252}"
      ]
     },
     "execution_count": 11,
     "metadata": {},
     "output_type": "execute_result"
    }
   ],
   "source": [
    "investment_windows[0]"
   ]
  },
  {
   "cell_type": "code",
   "execution_count": 12,
   "id": "bb107287-f051-425a-91e7-c95733ae117e",
   "metadata": {},
   "outputs": [
    {
     "data": {
      "text/plain": [
       "{'start_idx': 1, 'end_idx': 253, 'window_size': 252}"
      ]
     },
     "execution_count": 12,
     "metadata": {},
     "output_type": "execute_result"
    }
   ],
   "source": [
    "investment_windows[1]"
   ]
  },
  {
   "cell_type": "code",
   "execution_count": 13,
   "id": "83fa1ec3-39d9-4e19-8b8b-e013a2a51b0c",
   "metadata": {},
   "outputs": [
    {
     "data": {
      "text/plain": [
       "{'start_idx': 77, 'end_idx': 8015, 'window_size': 7938}"
      ]
     },
     "execution_count": 13,
     "metadata": {},
     "output_type": "execute_result"
    }
   ],
   "source": [
    "investment_windows[-1]"
   ]
  },
  {
   "cell_type": "markdown",
   "id": "3c7ecc9e-b151-4065-b26a-8a477ac1b71c",
   "metadata": {},
   "source": [
    "  "
   ]
  },
  {
   "cell_type": "markdown",
   "id": "d9b07683-599b-4965-9e4d-ee99b570b477",
   "metadata": {},
   "source": [
    "  "
   ]
  },
  {
   "cell_type": "markdown",
   "id": "417b7326-125a-48ca-8b18-7297a9094fef",
   "metadata": {},
   "source": [
    "# Run Backtests (naive)\n",
    "### total time: 10:01\n",
    "### per backtest: 403.94 it/s"
   ]
  },
  {
   "cell_type": "code",
   "execution_count": 14,
   "id": "d929829f-69bb-46cf-a87c-f6a5bdf4f3ea",
   "metadata": {},
   "outputs": [
    {
     "data": {
      "text/plain": [
       "8015"
      ]
     },
     "execution_count": 14,
     "metadata": {},
     "output_type": "execute_result"
    }
   ],
   "source": [
    "len(spy_df)"
   ]
  },
  {
   "cell_type": "code",
   "execution_count": 15,
   "id": "5856b5f1-1887-4eb0-b4bd-0a78436be9a4",
   "metadata": {},
   "outputs": [
    {
     "name": "stderr",
     "output_type": "stream",
     "text": [
      "100%|██████████████████████████████████████████████████████████████████████████████████████████████████████████████████████████████████| 243102/243102 [20:37<00:00, 196.38it/s]\n"
     ]
    }
   ],
   "source": [
    "from tqdm import tqdm \n",
    "\n",
    "naive_bt_results = []\n",
    "\n",
    "# loop over various investment periods \n",
    "for investment_window in tqdm(investment_windows):\n",
    "\n",
    "    start_idx = investment_window['start_idx']\n",
    "    end_idx = investment_window['end_idx']\n",
    "    window_df = spy_df.iloc[start_idx: end_idx].copy()\n",
    "    \n",
    "    window_df = calc_backtest(window_df)\n",
    "    \n",
    "    naive_bt_results.append({\n",
    "        \n",
    "        \"win_sz\": investment_window_size,\n",
    "        \n",
    "        \"start_date\": window_df['date'].iloc[0],\n",
    "        \n",
    "        \"end_date\": window_df['date'].iloc[-1],\n",
    "        \n",
    "        \"roi\": window_df['rolling_max_drawdown'].iloc[-1],        \n",
    "        \"mdd\": window_df['rolling_max_drawdown'].min(),\n",
    "        \"sharpe\": window_df['cumulative_sharpe'].iloc[-1]\n",
    "        \n",
    "    })"
   ]
  },
  {
   "cell_type": "markdown",
   "id": "4f08ac3d-9696-42c9-9a8b-5c355587e552",
   "metadata": {},
   "source": [
    "  "
   ]
  },
  {
   "cell_type": "markdown",
   "id": "79b5b8fa-ae68-44ba-8f59-4ae692155f65",
   "metadata": {},
   "source": [
    "  "
   ]
  },
  {
   "cell_type": "markdown",
   "id": "3d3b3705-c551-4f6e-949e-1a01ab27581f",
   "metadata": {},
   "source": [
    "  "
   ]
  },
  {
   "cell_type": "markdown",
   "id": "8b534ae4-157d-4e47-a181-63a6a3e6a1d6",
   "metadata": {},
   "source": [
    "  "
   ]
  },
  {
   "cell_type": "markdown",
   "id": "423459ee-b2ba-47dd-8350-c61ccf5da062",
   "metadata": {},
   "source": [
    "  "
   ]
  },
  {
   "cell_type": "markdown",
   "id": "30c64d84-2155-476e-b940-b17cfa584057",
   "metadata": {},
   "source": [
    "  "
   ]
  },
  {
   "cell_type": "markdown",
   "id": "8262c48b-83a2-41ef-a737-16554743fdee",
   "metadata": {},
   "source": [
    "  "
   ]
  },
  {
   "cell_type": "markdown",
   "id": "7b4c837d-7379-4076-94fa-e479b382e3d8",
   "metadata": {},
   "source": [
    "  "
   ]
  },
  {
   "cell_type": "markdown",
   "id": "45e4ac3f-b2a5-4fde-90de-279a44bda157",
   "metadata": {},
   "source": [
    "  "
   ]
  },
  {
   "cell_type": "markdown",
   "id": "c5fd8763-ed5c-4548-b2c6-d7bb64489cc8",
   "metadata": {},
   "source": [
    "  "
   ]
  },
  {
   "cell_type": "markdown",
   "id": "ce6f540e-c9a6-4d01-93d0-d9dda27ee814",
   "metadata": {},
   "source": [
    "  "
   ]
  },
  {
   "cell_type": "markdown",
   "id": "ba373a08-85e7-4905-ad49-5c542873e4a1",
   "metadata": {},
   "source": [
    "  "
   ]
  },
  {
   "cell_type": "markdown",
   "id": "f8744114-facd-4cf3-a2f1-cef98ca59e6c",
   "metadata": {},
   "source": [
    "  "
   ]
  },
  {
   "cell_type": "markdown",
   "id": "8760c493-7f9d-4179-ac10-3f37ba1a7ef3",
   "metadata": {},
   "source": [
    "  "
   ]
  },
  {
   "cell_type": "markdown",
   "id": "b2d9283a-d962-4f39-a92f-4774e848e133",
   "metadata": {},
   "source": [
    "# Faster Backtests\n",
    "### total time: 00:49\n",
    "### per backtest: 162.25 it/s"
   ]
  },
  {
   "cell_type": "code",
   "execution_count": null,
   "id": "2107b463-eac4-4535-b09a-d3dc6a02618f",
   "metadata": {},
   "outputs": [],
   "source": [
    "from tqdm import tqdm\n",
    "\n",
    "fast_bt_results = []\n",
    "calc_count = 0\n",
    "\n",
    "spy_df['pct_change'] = spy_df['close'].pct_change()\n",
    "\n",
    "for start_idx in tqdm(range(0,len(spy_df)-1)):\n",
    "    \n",
    "    # roi\n",
    "    gains  = ( 1 +  spy_df.loc[start_idx:, 'pct_change'] ).cumprod() - 1\n",
    "    \n",
    "    # mdd\n",
    "    mdd    = ((spy_df.loc[start_idx:, 'close'] - (spy_df.loc[start_idx:, 'close'].cummax())) / spy_df.loc[start_idx:, 'close'].cummax()).cummin()\n",
    "    \n",
    "    # sharpe\n",
    "    sharpe = (spy_df.loc[start_idx:, 'pct_change'] - daily_risk_free_rate).expanding().mean() / spy_df.loc[start_idx:, 'pct_change'].expanding().std()\n",
    "    \n",
    "    \n",
    "    for investment_winow_size in investment_winow_sizes:\n",
    "        \n",
    "        if start_idx+investment_winow_size-1 >= len(spy_df):\n",
    "            continue                \n",
    "            \n",
    "        last_gains = gains.loc[start_idx+investment_winow_size-1].item()\n",
    "\n",
    "        fast_bt_results.append({\n",
    "            \"win_sz\" : investment_winow_size,\n",
    "            \"start_date\" : spy_df.loc[start_idx]['date'],\n",
    "            \"end_date\" : spy_df.loc[start_idx+investment_winow_size-1]['date'],\n",
    "            \"roi\" : gains.loc[start_idx+investment_winow_size-1].item(),\n",
    "            \"mdd\": mdd.loc[start_idx+investment_winow_size-1].item(),\n",
    "            \"sharpe\": sharpe.loc[start_idx+investment_winow_size-1].item()\n",
    "        })"
   ]
  },
  {
   "cell_type": "markdown",
   "id": "c3fe7ae8-05b0-47b7-b1c2-08bf376bbaaf",
   "metadata": {},
   "source": [
    "  "
   ]
  },
  {
   "cell_type": "markdown",
   "id": "9989928f-d571-45b6-98f2-ef6dd4339d15",
   "metadata": {},
   "source": [
    "  "
   ]
  },
  {
   "cell_type": "markdown",
   "id": "f8a7f2f1-b773-4f97-9c71-970e409e88eb",
   "metadata": {},
   "source": [
    "  "
   ]
  },
  {
   "cell_type": "markdown",
   "id": "8552ee23-55af-44f1-b5d7-06e9835cf608",
   "metadata": {},
   "source": [
    "  "
   ]
  },
  {
   "cell_type": "markdown",
   "id": "6230c303-7cd3-4cb3-a6fc-95f6bd14514d",
   "metadata": {},
   "source": [
    "  "
   ]
  },
  {
   "cell_type": "markdown",
   "id": "7b83baf9-6857-4043-bf9c-6948e8382fd1",
   "metadata": {},
   "source": [
    "  "
   ]
  },
  {
   "cell_type": "markdown",
   "id": "d29b361b-0ad8-496d-835f-e0fb74d9b1b4",
   "metadata": {},
   "source": [
    "# Compare  "
   ]
  },
  {
   "cell_type": "code",
   "execution_count": null,
   "id": "ba1a887a-605e-40e1-bdf3-e3ede5bd2c58",
   "metadata": {},
   "outputs": [],
   "source": [
    "pd.DataFrame(fast_bt_results)"
   ]
  },
  {
   "cell_type": "code",
   "execution_count": null,
   "id": "aec350fc-c298-4411-a69b-67efed87183b",
   "metadata": {},
   "outputs": [],
   "source": [
    "pd.DataFrame(naive_bt_results)"
   ]
  },
  {
   "cell_type": "markdown",
   "id": "4d0cb6ba-4244-4bef-9f46-a741d73107d7",
   "metadata": {},
   "source": [
    "  "
   ]
  },
  {
   "cell_type": "markdown",
   "id": "a7db6d93-d4dd-405e-891c-35040901c430",
   "metadata": {},
   "source": [
    "  "
   ]
  },
  {
   "cell_type": "markdown",
   "id": "3afd7d9e-c150-41b5-988e-7ac2d41eca18",
   "metadata": {},
   "source": [
    "  "
   ]
  },
  {
   "cell_type": "markdown",
   "id": "9bcd9040-e4a4-444b-b9d9-684dccd6e147",
   "metadata": {},
   "source": [
    "  "
   ]
  },
  {
   "cell_type": "markdown",
   "id": "86eb57f7-ea3f-4a49-85c2-36bad85c4257",
   "metadata": {},
   "source": [
    "  "
   ]
  },
  {
   "cell_type": "markdown",
   "id": "1e7c9a39-5d9f-40e2-9fe2-fa1c7ea66ba4",
   "metadata": {},
   "source": [
    "  "
   ]
  },
  {
   "cell_type": "markdown",
   "id": "5494a7f6-4b9c-48bf-b24a-0549bb613682",
   "metadata": {},
   "source": [
    "  "
   ]
  },
  {
   "cell_type": "markdown",
   "id": "17974351-9c5b-477f-a264-8c9e98d623c5",
   "metadata": {},
   "source": [
    "  "
   ]
  },
  {
   "cell_type": "markdown",
   "id": "634030fa-54d7-4274-b345-52ece8289f7e",
   "metadata": {},
   "source": [
    "  "
   ]
  },
  {
   "cell_type": "markdown",
   "id": "34882a18-7df7-4dff-9e19-7eb2bae5dfa5",
   "metadata": {},
   "source": [
    "  "
   ]
  },
  {
   "cell_type": "markdown",
   "id": "7c1b7821-d2e2-4a21-a5f7-df73cceaba26",
   "metadata": {},
   "source": [
    "  "
   ]
  },
  {
   "cell_type": "markdown",
   "id": "dcf061d3-77e6-4f9e-85b0-8d5803422e08",
   "metadata": {},
   "source": [
    "  "
   ]
  },
  {
   "cell_type": "markdown",
   "id": "d71fd8cd-9e8c-47ba-8a60-125bc65d76fc",
   "metadata": {},
   "source": [
    "  "
   ]
  },
  {
   "cell_type": "markdown",
   "id": "3b73dc4e-d11f-4073-b8f4-3c6cb42504fe",
   "metadata": {},
   "source": [
    "  "
   ]
  },
  {
   "cell_type": "markdown",
   "id": "d7d62fb8-e698-47f2-9d27-c67a65e17a43",
   "metadata": {},
   "source": [
    "  "
   ]
  },
  {
   "cell_type": "markdown",
   "id": "12dea668-2c8a-461a-8079-ddb0569d3825",
   "metadata": {},
   "source": [
    "  "
   ]
  },
  {
   "cell_type": "markdown",
   "id": "ce8bdfa4-5af7-43e6-bbe3-d3c0cc337515",
   "metadata": {},
   "source": [
    "  "
   ]
  },
  {
   "cell_type": "markdown",
   "id": "ff50006a-3caf-47de-9f59-6be392bc126d",
   "metadata": {},
   "source": [
    "  "
   ]
  },
  {
   "cell_type": "markdown",
   "id": "75025ad2-799d-4679-9f11-ea80e2325cb9",
   "metadata": {},
   "source": [
    "  "
   ]
  },
  {
   "cell_type": "markdown",
   "id": "36da660c-3ce0-4e74-befe-9caafdc54714",
   "metadata": {},
   "source": [
    "  "
   ]
  },
  {
   "cell_type": "markdown",
   "id": "b516fc2c-43bf-4e8f-940c-4e3cc76edf41",
   "metadata": {},
   "source": [
    "  "
   ]
  },
  {
   "cell_type": "markdown",
   "id": "b08c75d6-ba4a-4487-918e-0a3a2f088aef",
   "metadata": {},
   "source": [
    "  "
   ]
  },
  {
   "cell_type": "markdown",
   "id": "6f745235-2170-45f2-98a2-5e5ede2503d1",
   "metadata": {},
   "source": [
    "  "
   ]
  },
  {
   "cell_type": "markdown",
   "id": "c905cac2-1def-4e47-9fc5-10bcd4221528",
   "metadata": {},
   "source": [
    "  "
   ]
  },
  {
   "cell_type": "markdown",
   "id": "8be06c7b-3417-408a-a3b2-107821d1304a",
   "metadata": {},
   "source": [
    "  "
   ]
  },
  {
   "cell_type": "code",
   "execution_count": null,
   "id": "0939cb99-85d1-49d8-89d5-f6b697866ada",
   "metadata": {},
   "outputs": [],
   "source": [
    "import yfinance as yf\n",
    "import numpy as np\n",
    "import pandas as pd\n",
    "\n",
    "# 1. Download SPY data\n",
    "data = yf.download(\"SPY\", start=\"1993-01-29\", end=\"2024-01-01\")\n",
    "data = data[['Adj Close']].rename(columns={'Adj Close': 'Close'})\n",
    "data['Returns'] = data['Close'].pct_change()\n",
    "data"
   ]
  },
  {
   "cell_type": "code",
   "execution_count": null,
   "id": "20759a49-a860-46a3-a6f9-5b49a15ee0d0",
   "metadata": {},
   "outputs": [],
   "source": [
    "# 3. Calculate cumulative returns and rolling statistics\n",
    "df = data.copy()\n",
    "df['LogClose'] = np.log(df['Close'])\n",
    "cumulative_returns = pd.DataFrame(index=df.index)"
   ]
  },
  {
   "cell_type": "code",
   "execution_count": null,
   "id": "e551f716-cf4b-4faa-89a2-b656b9b0d068",
   "metadata": {},
   "outputs": [],
   "source": [
    "for period in investment_periods:\n",
    "    \n",
    "    # Rolling returns (log returns for stability)\n",
    "    df[f'Return_{period}d'] = (df['LogClose'].shift(-period) - df['LogClose']).fillna(0)\n",
    "    \n",
    "    # # Rolling drawdowns\n",
    "    df[f'MaxClose_{period}d'] = df['Close'].rolling(window=period).max()\n",
    "    # df[f'Drawdown_{period}d'] = df['Close'] / df[f'MaxClose_{period}d'] - 1\n",
    "\n",
    "    # # Rolling Sharpe ratio\n",
    "    # rolling_return = df['Returns'].rolling(window=period).mean()\n",
    "    # rolling_std = df['Returns'].rolling(window=period).std()\n",
    "    # df[f'Sharpe_{period}d'] = (rolling_return / rolling_std) * np.sqrt(252)"
   ]
  },
  {
   "cell_type": "code",
   "execution_count": null,
   "id": "b8189a15-9575-4fa8-8943-9a86730daac9",
   "metadata": {},
   "outputs": [],
   "source": [
    "df"
   ]
  },
  {
   "cell_type": "code",
   "execution_count": null,
   "id": "ce39e0c6-9a2b-4c98-a981-29b550169f20",
   "metadata": {},
   "outputs": [],
   "source": [
    "# 4. Organize results for analysis\n",
    "results = []\n",
    "for period in investment_periods:\n",
    "    max_dd = df[f'Drawdown_{period}d'].min()\n",
    "    avg_return = df[f'Return_{period}d'].mean()\n",
    "    avg_sharpe = df[f'Sharpe_{period}d'].mean()\n",
    "    \n",
    "    results.append({\n",
    "        'Investment Period (Years)': period / 252,\n",
    "        'Max Drawdown': max_dd,\n",
    "        'Average Return': avg_return,\n",
    "        'Average Sharpe Ratio': avg_sharpe\n",
    "    })\n",
    "\n",
    "results_df = pd.DataFrame(results)\n",
    "\n",
    "# Display final result\n",
    "print(results_df)"
   ]
  },
  {
   "cell_type": "markdown",
   "id": "f4c1f737-b234-4175-923a-230a1e6b682e",
   "metadata": {},
   "source": [
    "  "
   ]
  },
  {
   "cell_type": "markdown",
   "id": "5b590174-4e5d-451b-a6f5-4a45468fda4c",
   "metadata": {},
   "source": [
    "  "
   ]
  },
  {
   "cell_type": "markdown",
   "id": "d40a5c75-3ab0-4aae-a0e6-76fe21602bf2",
   "metadata": {},
   "source": [
    "  "
   ]
  },
  {
   "cell_type": "markdown",
   "id": "7cf0b4f8-dd45-48a5-a5dc-3e97a1d50163",
   "metadata": {},
   "source": [
    "  "
   ]
  },
  {
   "cell_type": "markdown",
   "id": "e0617c15-9fce-42b1-a3c7-454dafc77cdb",
   "metadata": {},
   "source": [
    "  "
   ]
  },
  {
   "cell_type": "markdown",
   "id": "02da8ce3-2991-45a0-a42f-0f9bee94f521",
   "metadata": {},
   "source": [
    "  "
   ]
  },
  {
   "cell_type": "markdown",
   "id": "8dac2443-67fc-43b1-85d0-a4c83484cc7e",
   "metadata": {},
   "source": [
    "  "
   ]
  },
  {
   "cell_type": "markdown",
   "id": "84d3c61f-6bce-4c9c-a418-d034e4269f1b",
   "metadata": {},
   "source": [
    "  "
   ]
  },
  {
   "cell_type": "markdown",
   "id": "83090694-2693-4172-9f6e-7e211810f066",
   "metadata": {},
   "source": [
    "  "
   ]
  },
  {
   "cell_type": "markdown",
   "id": "bd26644d-78c2-44e2-99b9-243434a55b11",
   "metadata": {},
   "source": [
    "  "
   ]
  },
  {
   "cell_type": "markdown",
   "id": "8af0e4f8-71ff-4c89-b9ea-b0b7ca74e869",
   "metadata": {},
   "source": [
    "  "
   ]
  },
  {
   "cell_type": "markdown",
   "id": "c75711dd-879a-4eb9-9524-4d63b4fca159",
   "metadata": {},
   "source": [
    "  "
   ]
  },
  {
   "cell_type": "markdown",
   "id": "cb6c880c-7d11-4433-a085-4a2f38c09a1d",
   "metadata": {},
   "source": [
    "  "
   ]
  },
  {
   "cell_type": "markdown",
   "id": "f8df24d6-f7a8-43e6-9361-7aca94bb7219",
   "metadata": {},
   "source": [
    "  "
   ]
  },
  {
   "cell_type": "markdown",
   "id": "204c2c33-3d33-4274-a56b-307da100d7b6",
   "metadata": {},
   "source": [
    "  "
   ]
  },
  {
   "cell_type": "markdown",
   "id": "9b6e012b-d963-48ec-99c9-06e468d0f8ce",
   "metadata": {},
   "source": [
    "  "
   ]
  },
  {
   "cell_type": "markdown",
   "id": "702cfbd0-a6d7-4478-bcec-cf862a0b3a1b",
   "metadata": {},
   "source": [
    "  "
   ]
  },
  {
   "cell_type": "markdown",
   "id": "4105999d-b47f-4b4e-abbc-1c0bf4a02ab9",
   "metadata": {},
   "source": [
    "  "
   ]
  },
  {
   "cell_type": "markdown",
   "id": "537da644-55d6-4b63-a1a3-8650c8035367",
   "metadata": {},
   "source": [
    "  "
   ]
  },
  {
   "cell_type": "markdown",
   "id": "8aa62087-4ec5-4206-8557-9311024c6296",
   "metadata": {},
   "source": [
    "  "
   ]
  },
  {
   "cell_type": "markdown",
   "id": "813dcf4d-e614-412b-b7f0-4ebbe315ac8f",
   "metadata": {},
   "source": [
    "  "
   ]
  },
  {
   "cell_type": "markdown",
   "id": "37301ca9-1757-41c4-b5b7-a8f8b8959508",
   "metadata": {},
   "source": [
    "  "
   ]
  },
  {
   "cell_type": "markdown",
   "id": "b459afd4-c2b8-4c9f-a1a8-ca52a35865b7",
   "metadata": {},
   "source": [
    "### start at beginning of DF and calculate for each day - 8,014 calculations instead of 243,040"
   ]
  },
  {
   "cell_type": "code",
   "execution_count": null,
   "id": "f8c9217b-69bb-4507-a029-b71a15cdbbbb",
   "metadata": {},
   "outputs": [],
   "source": [
    "spy_df"
   ]
  },
  {
   "cell_type": "markdown",
   "id": "392917c4-b420-447a-a0e1-3c76fe6d1cb1",
   "metadata": {},
   "source": [
    "  "
   ]
  },
  {
   "cell_type": "markdown",
   "id": "8004ffdc-657a-4a82-b655-3bd0d4dcf34d",
   "metadata": {},
   "source": [
    "  "
   ]
  },
  {
   "cell_type": "markdown",
   "id": "5b99a573-581e-4fb1-a318-a51b01ffe374",
   "metadata": {},
   "source": [
    "  "
   ]
  },
  {
   "cell_type": "markdown",
   "id": "e1091793-7948-4623-9af5-0650d27cfdc2",
   "metadata": {},
   "source": [
    "  "
   ]
  },
  {
   "cell_type": "markdown",
   "id": "dea3979c-9058-464f-b1de-434bdb5ba904",
   "metadata": {},
   "source": [
    "  "
   ]
  },
  {
   "cell_type": "markdown",
   "id": "7e1e45dc-fa8d-4e26-8e72-6c783cd9d89a",
   "metadata": {},
   "source": [
    "  "
   ]
  },
  {
   "cell_type": "markdown",
   "id": "e355505e-5f7a-481d-826f-4afdb72e1e53",
   "metadata": {},
   "source": [
    "  "
   ]
  },
  {
   "cell_type": "markdown",
   "id": "a96bbf8f-a5c8-491b-9c7a-8afcd1efd27d",
   "metadata": {},
   "source": [
    "### Investment Window (10 Days)"
   ]
  },
  {
   "cell_type": "code",
   "execution_count": null,
   "id": "e6397668-18cc-42c2-9e5f-b496cc4f16b6",
   "metadata": {},
   "outputs": [],
   "source": [
    "INVESTMENT_PERIOD = 10 # 252\n",
    "df = df.head(INVESTMENT_PERIOD).copy().sort_values(\"date\")\n",
    "df"
   ]
  },
  {
   "cell_type": "markdown",
   "id": "efd37bca-4ee0-413b-93ba-7cfc80b4b5d0",
   "metadata": {},
   "source": [
    "# Calculate Returns and Risks Metrics"
   ]
  },
  {
   "cell_type": "markdown",
   "id": "3752e242-6d84-4f17-86c7-b9d3255d31e2",
   "metadata": {},
   "source": [
    "### Cumulative Returns  (expanded code)"
   ]
  },
  {
   "cell_type": "code",
   "execution_count": null,
   "id": "59df29df-fa84-4493-9ec1-fe01950c42ec",
   "metadata": {},
   "outputs": [],
   "source": [
    "df.loc[:, 'daily_returns'] = df['close'].pct_change()\n",
    "df"
   ]
  },
  {
   "cell_type": "code",
   "execution_count": null,
   "id": "852e9b8c-1f67-4288-9b34-3bf6a8e42a73",
   "metadata": {},
   "outputs": [],
   "source": [
    "df['daily_returns_plus_one'] = df['daily_returns'] + 1\n",
    "df"
   ]
  },
  {
   "cell_type": "code",
   "execution_count": null,
   "id": "dd2be179-b1ec-4c30-b3cc-692f787aad38",
   "metadata": {},
   "outputs": [],
   "source": [
    "df[\"returns_pls_1_cumprod\"] = df['daily_returns_plus_one'].cumprod()\n",
    "df"
   ]
  },
  {
   "cell_type": "code",
   "execution_count": null,
   "id": "a3b9413c-1e46-4f37-84e0-4a542d29ee33",
   "metadata": {},
   "outputs": [],
   "source": [
    "df[\"cum_returns\"] = df['returns_pls_1_cumprod'] - 1\n",
    "df"
   ]
  },
  {
   "cell_type": "markdown",
   "id": "5d71fb4a-4970-488c-ae41-031ba539423d",
   "metadata": {},
   "source": [
    "### Cumulative Returns  (1 liner)"
   ]
  },
  {
   "cell_type": "code",
   "execution_count": null,
   "id": "73957cd1-9df2-44b2-ab75-ec2dda45f189",
   "metadata": {},
   "outputs": [],
   "source": [
    "df = get_data(tickers = ['SPY'])\n",
    "df = df.head(10)"
   ]
  },
  {
   "cell_type": "code",
   "execution_count": null,
   "id": "e23f471c-6874-459d-9d5d-946f6f27d862",
   "metadata": {},
   "outputs": [],
   "source": [
    "df[\"cum_returns\"] = ( 1 + df['close'].pct_change() ).cumprod() - 1\n",
    "df"
   ]
  },
  {
   "cell_type": "markdown",
   "id": "215fc260-6814-4e6b-8642-eedbbee1bfc3",
   "metadata": {},
   "source": [
    "  "
   ]
  },
  {
   "cell_type": "markdown",
   "id": "f6c10316-df30-4c42-a009-08f69777d67f",
   "metadata": {},
   "source": [
    "  "
   ]
  },
  {
   "cell_type": "markdown",
   "id": "12511502-95f4-47bc-9b13-d68426b0f3e3",
   "metadata": {},
   "source": [
    "### Maximum Drawdown (expanded)"
   ]
  },
  {
   "cell_type": "code",
   "execution_count": null,
   "id": "2adcda6f-ab69-40e6-9033-b8293cabab70",
   "metadata": {},
   "outputs": [],
   "source": [
    "df = get_data(tickers = ['SPY'])\n",
    "df = df.head(10)"
   ]
  },
  {
   "cell_type": "markdown",
   "id": "ca233e9d-70bf-4f0a-a63c-5198258c68c8",
   "metadata": {},
   "source": [
    "### Cumulative Max"
   ]
  },
  {
   "cell_type": "code",
   "execution_count": null,
   "id": "b4e25c79-ea70-4ebd-a0e5-1445434723b5",
   "metadata": {},
   "outputs": [],
   "source": [
    "df['rolling_max'] = df['close'].cummax()\n",
    "df"
   ]
  },
  {
   "cell_type": "markdown",
   "id": "5496150f-673a-4b8a-b93b-157721f54b85",
   "metadata": {},
   "source": [
    "### Close - Max"
   ]
  },
  {
   "cell_type": "code",
   "execution_count": null,
   "id": "124a2cac-ee43-4e1d-92e5-bd3346431673",
   "metadata": {},
   "outputs": [],
   "source": [
    "df['close_max_diff'] = df['close'] - df['rolling_max']\n",
    "df"
   ]
  },
  {
   "cell_type": "markdown",
   "id": "4903675f-a4d9-4dd6-9288-0dd0913d49a2",
   "metadata": {},
   "source": [
    "### Drawdown"
   ]
  },
  {
   "cell_type": "code",
   "execution_count": null,
   "id": "570893e5-3542-4ad8-b98e-d3fed29e1bfa",
   "metadata": {},
   "outputs": [],
   "source": [
    "df['drawdown'] = df['close_max_diff'] / df['rolling_max']\n",
    "df"
   ]
  },
  {
   "cell_type": "markdown",
   "id": "47cdb3b6-9eac-4967-9ca5-9538b5992add",
   "metadata": {},
   "source": [
    "### Max Drawdown"
   ]
  },
  {
   "cell_type": "code",
   "execution_count": null,
   "id": "5836077b-b450-4fc0-a792-2bd9ca2e1a95",
   "metadata": {},
   "outputs": [],
   "source": [
    "df['rolling_max_drawdown'] = df['drawdown'].cummin()\n",
    "df"
   ]
  },
  {
   "cell_type": "markdown",
   "id": "42a0ce48-2bec-4cb6-9256-2cb722d0b436",
   "metadata": {},
   "source": [
    "### Maximum Drawdown (1-liner)"
   ]
  },
  {
   "cell_type": "code",
   "execution_count": null,
   "id": "7d0aea7b-377d-4341-81bb-87592805af7a",
   "metadata": {},
   "outputs": [],
   "source": [
    "# rolling max\n",
    "df['rolling_max'] = df['close'].cummax()\n",
    "# close - max\n",
    "df['close_max_diff'] = df['close'] - df['rolling_max']\n",
    "# drawdown\n",
    "df['drawdown'] = df['close_max_diff'] / df['rolling_max']\n",
    "# max drawdown\n",
    "df['rolling_max_drawdown'] = df['drawdown'].cummin()\n",
    "df"
   ]
  },
  {
   "cell_type": "code",
   "execution_count": null,
   "id": "fdc92172-6d9f-405f-a02b-f379c3237948",
   "metadata": {},
   "outputs": [],
   "source": [
    "df = get_data(tickers = ['SPY'])\n",
    "df = df.head(10)"
   ]
  },
  {
   "cell_type": "code",
   "execution_count": null,
   "id": "ead3dbb4-e1e9-4361-9f13-baa3e3b665a7",
   "metadata": {},
   "outputs": [],
   "source": [
    "# rolling max\n",
    "# df['rolling_max'] = (df['close'].cummax())\n",
    "# close - max\n",
    "# df['close_max_diff'] = (df['close'] - df['rolling_max'])\n",
    "# drawdown\n",
    "# df['drawdown'] = (df['close_max_diff'] / df['rolling_max'])\n",
    "# max drawdown\n",
    "df['rolling_max_drawdown'] = ((df['close'] - (df['close'].cummax())) / df['close'].cummax()).cummin()\n",
    "df"
   ]
  },
  {
   "cell_type": "markdown",
   "id": "1e18f75b-f141-4fb9-a32d-04aaf4f2fc87",
   "metadata": {},
   "source": [
    "### Sharpe Ratio"
   ]
  },
  {
   "cell_type": "code",
   "execution_count": null,
   "id": "5db7ee52-b7af-45bc-b1e3-4372da5ae368",
   "metadata": {},
   "outputs": [],
   "source": [
    "df = get_data(tickers = ['SPY'])\n",
    "df = df.head(10)"
   ]
  },
  {
   "cell_type": "markdown",
   "id": "7f5cca55-b4f8-4f9f-b1d1-9e813f3dd5b1",
   "metadata": {},
   "source": [
    "### Rolling Average Returns"
   ]
  },
  {
   "cell_type": "code",
   "execution_count": null,
   "id": "017df8be-e121-4da0-b94c-af5404af594d",
   "metadata": {},
   "outputs": [],
   "source": [
    "df['daily_returns'] = df['close'].pct_change()\n",
    "df['returns_rolling_mean'] = df['daily_returns'].expanding().mean()\n",
    "df\n"
   ]
  },
  {
   "cell_type": "markdown",
   "id": "b47ce3b3-9b47-4c2f-af08-f4720e898a57",
   "metadata": {},
   "source": [
    "### Rolling Standard Deviation"
   ]
  },
  {
   "cell_type": "code",
   "execution_count": null,
   "id": "fcae0daa-6e4a-4fc0-a83e-b69e33d5b728",
   "metadata": {},
   "outputs": [],
   "source": [
    "df['returns_rolling_std'] = df['daily_returns'].expanding().std()\n",
    "df\n"
   ]
  },
  {
   "cell_type": "markdown",
   "id": "2287c52f-1f6e-4929-baee-153998f0a9a3",
   "metadata": {},
   "source": [
    "### Sharpe Ratio"
   ]
  },
  {
   "cell_type": "code",
   "execution_count": null,
   "id": "67c3fd35-b825-4b9a-a577-7bab7e7a7b1d",
   "metadata": {},
   "outputs": [],
   "source": [
    "df[\"sharpe\"] = df['returns_rolling_mean'] / df['returns_rolling_std']\n",
    "df"
   ]
  },
  {
   "cell_type": "markdown",
   "id": "f62db66e-1260-4eed-b330-042fd0fb9f1a",
   "metadata": {},
   "source": [
    "### Sharpe Ratio (1-liner)"
   ]
  },
  {
   "cell_type": "code",
   "execution_count": null,
   "id": "9117e2be-4dea-43f7-839c-d56da3bb34c6",
   "metadata": {},
   "outputs": [],
   "source": [
    "df = get_data(tickers = ['SPY'])\n",
    "df = df.head(10)"
   ]
  },
  {
   "cell_type": "code",
   "execution_count": null,
   "id": "5b918ff4-2964-4691-9ffc-4447bc4835fe",
   "metadata": {},
   "outputs": [],
   "source": [
    "df['sharpe'] = ( \n",
    "                    df['close'].pct_change() - daily_risk_free_rate \n",
    "               ).expanding().mean() / df['close'].pct_change().expanding().std()\n",
    "df"
   ]
  },
  {
   "cell_type": "markdown",
   "id": "020be99a-1f61-430e-bc36-40b1aa561f21",
   "metadata": {},
   "source": [
    "  "
   ]
  },
  {
   "cell_type": "markdown",
   "id": "2f7fd415-206f-425c-a672-8c1bfed9e0a1",
   "metadata": {},
   "source": [
    "  "
   ]
  },
  {
   "cell_type": "markdown",
   "id": "63cdc7bd-5f59-4ffd-ba0c-adfacd86a649",
   "metadata": {},
   "source": [
    "  "
   ]
  },
  {
   "cell_type": "markdown",
   "id": "0df8d51c-139e-4876-8547-a6bf8e8a2586",
   "metadata": {},
   "source": [
    "  "
   ]
  },
  {
   "cell_type": "markdown",
   "id": "fbd1cbda-741c-4d10-84a2-7c51220ac26f",
   "metadata": {},
   "source": [
    "  "
   ]
  },
  {
   "cell_type": "markdown",
   "id": "525184db-bcdc-43e4-878d-73789e514035",
   "metadata": {},
   "source": [
    "  "
   ]
  },
  {
   "cell_type": "markdown",
   "id": "6eca516e-e3c0-4f40-970c-d530781b1305",
   "metadata": {},
   "source": [
    "  "
   ]
  },
  {
   "cell_type": "markdown",
   "id": "f2c329a1-f71d-4d35-a1a7-6737ae823668",
   "metadata": {},
   "source": [
    "# Quants Combined"
   ]
  },
  {
   "cell_type": "code",
   "execution_count": null,
   "id": "8817c192-248a-4b37-b414-857c8a34f53c",
   "metadata": {},
   "outputs": [],
   "source": [
    "def calc_backtest(df):\n",
    "\n",
    "    #roi\n",
    "    df[\"cumulative_returns\"] = ( 1 + df['close'].pct_change() ).cumprod() - 1\n",
    "    \n",
    "    # mdd\n",
    "    df['rolling_max_drawdown'] = ((df['close'] - (df['close'].cummax())) / df['close'].cummax()).cummin()\n",
    "    \n",
    "    # sharpe\n",
    "    df['cumulative_sharpe'] = ( df['close'].pct_change() - daily_risk_free_rate  ).expanding().mean() / df['close'].pct_change().expanding().std()\n",
    "\n",
    "    return df"
   ]
  },
  {
   "cell_type": "code",
   "execution_count": null,
   "id": "c186840f-4f35-4643-9098-cb63a228b031",
   "metadata": {},
   "outputs": [],
   "source": [
    "df = get_data(tickers = ['SPY'])\n",
    "df = df.head(10)\n",
    "df = calc_backtest(df)\n",
    "df"
   ]
  },
  {
   "cell_type": "markdown",
   "id": "e3ccbf1c-7d11-4404-ab98-ed7a7b7b57a6",
   "metadata": {},
   "source": [
    "# Sliding Window"
   ]
  },
  {
   "cell_type": "code",
   "execution_count": null,
   "id": "3da61f77-788c-477e-ab96-0d1b605bce5a",
   "metadata": {},
   "outputs": [],
   "source": [
    "TRADING_YR = 252\n",
    "window_addend = TRADING_YR // 2\n",
    "TRADING_YR, window_addend"
   ]
  },
  {
   "cell_type": "code",
   "execution_count": null,
   "id": "7e2dd994-b254-4b4d-a48c-7d97016bb991",
   "metadata": {},
   "outputs": [],
   "source": [
    "df = get_data(tickers = ['SPY'])\n",
    "df.shape"
   ]
  },
  {
   "cell_type": "code",
   "execution_count": null,
   "id": "ec3a6458-4d2e-4c72-ad48-0fb60e6eda64",
   "metadata": {},
   "outputs": [],
   "source": [
    "investment_winow_sizes = list(range(TRADING_YR, len(df), window_addend))\n",
    "investment_winow_sizes[0:3], investment_winow_sizes[-4:-1]"
   ]
  },
  {
   "cell_type": "code",
   "execution_count": null,
   "id": "447995c1-ad0c-48c7-b91b-c5ffc70ee79b",
   "metadata": {},
   "outputs": [],
   "source": [
    "backtest_results = []\n",
    "\n",
    "# loop over various investment periods \n",
    "for investment_winow_size in tqdm(investment_winow_sizes):\n",
    "    \n",
    "    # loop over day ranges in entire history\n",
    "    for i in range(0, len(df)-investment_winow_size + 1):\n",
    "        \n",
    "        start_idx = i\n",
    "        end_idx = i + investment_winow_size                        \n",
    "                    \n",
    "        window_df = df.iloc[start_idx: end_idx].copy()\n",
    "        window_df = calc_backtest(window_df)\n",
    "        \n",
    "        backtest_results.append({\n",
    "            \"holding_days\": investment_winow_size,\n",
    "            \"start_date\": window_df['date'].iloc[0],\n",
    "            \"end_date\": window_df['date'].iloc[-1],\n",
    "            \"roi\": window_df['rolling_max_drawdown'].iloc[-1],\n",
    "            \"sharpe\": window_df['cumulative_sharpe'].iloc[-1],\n",
    "            \"mdd\": window_df['rolling_max_drawdown'].min()\n",
    "        })"
   ]
  },
  {
   "cell_type": "code",
   "execution_count": null,
   "id": "c7b175f4-1082-42e9-a6de-7f0af15a8bdb",
   "metadata": {},
   "outputs": [],
   "source": [
    "import pandas as pd\n",
    "pd.DataFrame(backtest_results)"
   ]
  },
  {
   "cell_type": "code",
   "execution_count": null,
   "id": "283ac06a-f68f-46ef-92e4-7eeb347b1b2c",
   "metadata": {},
   "outputs": [],
   "source": []
  }
 ],
 "metadata": {
  "kernelspec": {
   "display_name": "Python 3 (ipykernel)",
   "language": "python",
   "name": "python3"
  },
  "language_info": {
   "codemirror_mode": {
    "name": "ipython",
    "version": 3
   },
   "file_extension": ".py",
   "mimetype": "text/x-python",
   "name": "python",
   "nbconvert_exporter": "python",
   "pygments_lexer": "ipython3",
   "version": "3.12.8"
  }
 },
 "nbformat": 4,
 "nbformat_minor": 5
}
