{
 "cells": [
  {
   "cell_type": "code",
   "execution_count": 1,
   "id": "56284a76-c669-42bb-8fed-5c62e746cbd3",
   "metadata": {},
   "outputs": [],
   "source": [
    "import matplotlib.pyplot as plt\n",
    "import plotly.express as px\n",
    "import seaborn as sns\n",
    "import pandas as pd\n",
    "\n",
    "from backtester import run_backtest"
   ]
  },
  {
   "cell_type": "markdown",
   "id": "15806ca9-3c65-4176-a82e-a6df2321e9fb",
   "metadata": {},
   "source": [
    "  "
   ]
  },
  {
   "cell_type": "markdown",
   "id": "f54df832-6c2d-4344-b2af-32f1835fb115",
   "metadata": {},
   "source": [
    "  "
   ]
  },
  {
   "cell_type": "markdown",
   "id": "b64c68fa-f552-4e49-8d54-8d5c8a8c4128",
   "metadata": {},
   "source": [
    "  "
   ]
  },
  {
   "cell_type": "markdown",
   "id": "c2d1abb0-f37f-4633-bfa3-711af2523d16",
   "metadata": {},
   "source": [
    "  "
   ]
  },
  {
   "cell_type": "markdown",
   "id": "90cecfbc-e2b1-4e32-bd56-cc79b4e9bbbb",
   "metadata": {},
   "source": [
    "  "
   ]
  },
  {
   "cell_type": "markdown",
   "id": "f2103d66-defe-4328-a3a3-829b1de0fb75",
   "metadata": {},
   "source": [
    "  "
   ]
  },
  {
   "cell_type": "markdown",
   "id": "5bd2c97c-02b1-42c9-9bde-e68c02a3e97d",
   "metadata": {},
   "source": [
    "  "
   ]
  },
  {
   "cell_type": "markdown",
   "id": "8c4c590b-d174-4c71-a385-aab89c6df38f",
   "metadata": {},
   "source": [
    "# Run SPY Backtests"
   ]
  },
  {
   "cell_type": "code",
   "execution_count": null,
   "id": "487c1a85-165a-4054-a1a7-3a3af14fbb29",
   "metadata": {},
   "outputs": [
    {
     "name": "stderr",
     "output_type": "stream",
     "text": [
      "[*********************100%***********************]  1 of 1 completed\n",
      "  0%|                                                                                                                                                                                     | 0/62 [00:00<?, ?it/s]"
     ]
    }
   ],
   "source": [
    "df = run_backtest(ticker='SPY')"
   ]
  },
  {
   "cell_type": "markdown",
   "id": "50078e85-631a-47e9-af79-f91774b5c9bc",
   "metadata": {},
   "source": [
    "  "
   ]
  },
  {
   "cell_type": "markdown",
   "id": "6f461a9c-64ec-492d-8586-ee3aae0699d4",
   "metadata": {},
   "source": [
    "  "
   ]
  },
  {
   "cell_type": "markdown",
   "id": "93475647-8dbb-44eb-95ad-999fdd9c1708",
   "metadata": {},
   "source": [
    "  "
   ]
  },
  {
   "cell_type": "markdown",
   "id": "182f937e-4a8a-402a-991c-f36e2407eeae",
   "metadata": {},
   "source": [
    "  "
   ]
  },
  {
   "cell_type": "markdown",
   "id": "47a28a42-a99c-411a-9179-e6f2c8f3c7bb",
   "metadata": {},
   "source": [
    "  "
   ]
  },
  {
   "cell_type": "markdown",
   "id": "52ee535a-9e0e-4146-bb18-ea0389c7c02d",
   "metadata": {},
   "source": [
    "  "
   ]
  },
  {
   "cell_type": "markdown",
   "id": "e9d88bf2-0652-42ab-8875-6fd05b9a7835",
   "metadata": {},
   "source": [
    "  "
   ]
  },
  {
   "cell_type": "markdown",
   "id": "56316ad7-5970-4f30-bc71-7032c2c3da2a",
   "metadata": {},
   "source": [
    "  "
   ]
  },
  {
   "cell_type": "markdown",
   "id": "863ace87-d0ce-45b7-8298-538b6981ed8a",
   "metadata": {},
   "source": [
    "  "
   ]
  },
  {
   "cell_type": "markdown",
   "id": "d66d6e99-4d0a-430a-b6e6-b7c1d36f4bb6",
   "metadata": {},
   "source": [
    "  "
   ]
  },
  {
   "cell_type": "markdown",
   "id": "0ef0dff9-6ff5-4f29-bc6c-c2fc2afe0736",
   "metadata": {},
   "source": [
    "  "
   ]
  },
  {
   "cell_type": "markdown",
   "id": "06a1ffe1-36b9-41cb-8743-6861cc6960b1",
   "metadata": {},
   "source": [
    "# Backtests Runs"
   ]
  },
  {
   "cell_type": "code",
   "execution_count": null,
   "id": "817cef39-e87f-4b16-82ab-ab050458f271",
   "metadata": {},
   "outputs": [],
   "source": [
    "df.sort_values([\"roi\", \"max_drawdown\", \"sharpe\"], ascending=[False, True, False]).head(30)"
   ]
  },
  {
   "cell_type": "code",
   "execution_count": null,
   "id": "d92a1700-549f-47d2-8027-e28dd9ef6beb",
   "metadata": {},
   "outputs": [],
   "source": [
    "df[\"holding_days\"].unique()"
   ]
  },
  {
   "cell_type": "code",
   "execution_count": null,
   "id": "b7d3c7ba-eca2-4b97-be2f-eb69f014e987",
   "metadata": {},
   "outputs": [],
   "source": [
    "7938 / 252"
   ]
  },
  {
   "cell_type": "markdown",
   "id": "31653be0-eab5-437d-9657-66bc4f5f83d5",
   "metadata": {},
   "source": [
    "  "
   ]
  },
  {
   "cell_type": "markdown",
   "id": "3e3ad37a-95e4-4da8-bb27-7003d5096886",
   "metadata": {},
   "source": [
    "  "
   ]
  },
  {
   "cell_type": "markdown",
   "id": "7e4d5fea-f8ff-4dc8-8305-1cde94cb7b58",
   "metadata": {},
   "source": [
    "  "
   ]
  },
  {
   "cell_type": "markdown",
   "id": "9ee1ce2e-8129-4119-ac48-4743bea08879",
   "metadata": {},
   "source": [
    "  "
   ]
  },
  {
   "cell_type": "markdown",
   "id": "aded7d2e-3576-4a06-a9eb-abf5b89f390c",
   "metadata": {},
   "source": [
    "  "
   ]
  },
  {
   "cell_type": "markdown",
   "id": "d80711b9-943f-4dd1-9e36-1c681fd95d27",
   "metadata": {},
   "source": [
    "  "
   ]
  },
  {
   "cell_type": "markdown",
   "id": "6f53dfe5-b3e9-480a-9bf0-805dff6d8f16",
   "metadata": {},
   "source": [
    "# Correlations"
   ]
  },
  {
   "cell_type": "code",
   "execution_count": null,
   "id": "4eb14365-3d88-437d-9117-99953827e90e",
   "metadata": {},
   "outputs": [],
   "source": [
    "corr_df = df.corr(numeric_only=True)[[\"holding_days\"]].T[[\"roi\", \"sharpe\", \"max_drawdown\"]].T.sort_values(\"holding_days\")\n",
    "sns.heatmap(corr_df, cmap=\"YlGnBu\", annot=True)\n",
    "plt.show()"
   ]
  },
  {
   "cell_type": "markdown",
   "id": "75d5fdf3-d4ed-4c43-8f93-20b788985abb",
   "metadata": {},
   "source": [
    "  "
   ]
  },
  {
   "cell_type": "markdown",
   "id": "7156722a-1148-408c-93ab-2ccd64a62826",
   "metadata": {},
   "source": [
    "  "
   ]
  },
  {
   "cell_type": "markdown",
   "id": "9ac361d4-f765-4940-a0c6-230796e4470a",
   "metadata": {},
   "source": [
    "  "
   ]
  },
  {
   "cell_type": "markdown",
   "id": "9b16b60e-239c-496d-954f-6238927c61d2",
   "metadata": {},
   "source": [
    "  "
   ]
  },
  {
   "cell_type": "markdown",
   "id": "bed3d186-2546-4aee-9df2-d2312ef7a34e",
   "metadata": {},
   "source": [
    "  "
   ]
  },
  {
   "cell_type": "markdown",
   "id": "b4a9cf5f-790c-4688-b37e-0f7a620eebdc",
   "metadata": {},
   "source": [
    "  "
   ]
  },
  {
   "cell_type": "markdown",
   "id": "bf4525fe-3b65-4fbd-980e-b041be8a7ec4",
   "metadata": {},
   "source": [
    "  "
   ]
  },
  {
   "cell_type": "markdown",
   "id": "be8c985c-4d87-4bc3-b55c-d2c6d88d1d5e",
   "metadata": {},
   "source": [
    "  "
   ]
  },
  {
   "cell_type": "markdown",
   "id": "294fa177-9964-4ea5-84c4-a5a66eecbdd0",
   "metadata": {},
   "source": [
    "  "
   ]
  },
  {
   "cell_type": "markdown",
   "id": "4b01f45c-b8c6-4c2e-9d1c-8c89d754cd68",
   "metadata": {},
   "source": [
    "  "
   ]
  },
  {
   "cell_type": "markdown",
   "id": "42aafd7e-879e-4ab8-ad41-4d7873fcdf56",
   "metadata": {},
   "source": [
    "  "
   ]
  },
  {
   "cell_type": "markdown",
   "id": "0e3a7916-61d3-456e-bfcc-eb2e43dbef08",
   "metadata": {},
   "source": [
    "  "
   ]
  },
  {
   "cell_type": "markdown",
   "id": "5b2ab3eb-1934-4f90-a88b-fcbf435ad1db",
   "metadata": {},
   "source": [
    "  "
   ]
  },
  {
   "cell_type": "markdown",
   "id": "0c753b3d-c54e-4e52-b33a-bd5a208af7d3",
   "metadata": {},
   "source": [
    "  "
   ]
  },
  {
   "cell_type": "markdown",
   "id": "b30a7524-0332-438a-ae64-1fe2d6902920",
   "metadata": {},
   "source": [
    "  "
   ]
  },
  {
   "cell_type": "markdown",
   "id": "134e0126-02cb-42c8-9f41-631879b76186",
   "metadata": {},
   "source": [
    "  "
   ]
  },
  {
   "cell_type": "markdown",
   "id": "74f64be2-bbf5-4a25-ad25-cb4fa344d60a",
   "metadata": {},
   "source": [
    "# Distrubutions"
   ]
  },
  {
   "cell_type": "code",
   "execution_count": null,
   "id": "239b1449-4eae-41c8-98b8-b0fc8568a711",
   "metadata": {},
   "outputs": [],
   "source": [
    "df['yrs'] = df[\"holding_days\"] / 252\n",
    "df.yrs.unique()"
   ]
  },
  {
   "cell_type": "markdown",
   "id": "54e18460-f885-4ad0-8ebb-22fd40bba9b2",
   "metadata": {},
   "source": [
    "  "
   ]
  },
  {
   "cell_type": "markdown",
   "id": "99fd0ef1-faca-40f5-beb9-5101f7319521",
   "metadata": {},
   "source": [
    "  "
   ]
  },
  {
   "cell_type": "markdown",
   "id": "c1b24d70-fe9d-47d7-86b6-0f2193d0272d",
   "metadata": {},
   "source": [
    "### 1 to 5 years"
   ]
  },
  {
   "cell_type": "code",
   "execution_count": null,
   "id": "d441f9ad-a11b-4555-a19f-e1852201a31c",
   "metadata": {},
   "outputs": [],
   "source": [
    "fig = px.histogram(df.query(\"(yrs >= 1) & (yrs <= 5)\").round(2), x=\"roi\", y=\"yrs\", marginal=\"box\", hover_data=df.columns, nbins=50)\n",
    "fig.update_layout(height=700)\n",
    "fig.show()"
   ]
  },
  {
   "cell_type": "markdown",
   "id": "bee0533a-63f0-46fc-a840-99be1d783599",
   "metadata": {},
   "source": [
    "  "
   ]
  },
  {
   "cell_type": "markdown",
   "id": "850dc19b-e6f7-4ea4-8ecb-2579bf19930c",
   "metadata": {},
   "source": [
    "  "
   ]
  },
  {
   "cell_type": "markdown",
   "id": "2e008a76-ceb3-41e0-b055-2a9aa03c5a9b",
   "metadata": {},
   "source": [
    "  "
   ]
  },
  {
   "cell_type": "markdown",
   "id": "e4bcd0c9-5cf1-4446-bd5a-76a7ebe464a1",
   "metadata": {},
   "source": [
    "### 5 to 15 years"
   ]
  },
  {
   "cell_type": "code",
   "execution_count": null,
   "id": "8ba816c4-ad1b-49b5-9cc3-e6c2a98af93e",
   "metadata": {},
   "outputs": [],
   "source": [
    "fig = px.histogram( df.query(\"(yrs >= 5) & (yrs <= 15)\"), x=\"roi\", y=\"yrs\", marginal=\"box\", hover_data=df.columns, nbins=20)\n",
    "fig.update_layout(height=700)\n",
    "fig.show()"
   ]
  },
  {
   "cell_type": "markdown",
   "id": "389669e1-3b16-4257-a9d7-4360bf3c77b1",
   "metadata": {},
   "source": [
    "  "
   ]
  },
  {
   "cell_type": "markdown",
   "id": "b72ccd73-65a6-40b0-9ce0-09cfbbca3099",
   "metadata": {},
   "source": [
    "  "
   ]
  },
  {
   "cell_type": "markdown",
   "id": "d91a8e6b-9696-48af-b610-f9fee3ee14f0",
   "metadata": {},
   "source": [
    "  "
   ]
  },
  {
   "cell_type": "markdown",
   "id": "f3bf3197-8a7e-4cdc-bbf1-a131598e7b6a",
   "metadata": {},
   "source": [
    "  "
   ]
  },
  {
   "cell_type": "markdown",
   "id": "72a1c00f-900b-46a5-9423-79eb77eb3da8",
   "metadata": {},
   "source": [
    "  "
   ]
  },
  {
   "cell_type": "markdown",
   "id": "ef25ed09-240a-4839-b009-16543b7b5544",
   "metadata": {},
   "source": [
    "  "
   ]
  },
  {
   "cell_type": "markdown",
   "id": "90150455-4782-4fa0-ba04-2d14406c45b0",
   "metadata": {},
   "source": [
    "  "
   ]
  },
  {
   "cell_type": "markdown",
   "id": "d72856e0-545c-42c8-89f3-97d22217d045",
   "metadata": {},
   "source": [
    "  "
   ]
  },
  {
   "cell_type": "markdown",
   "id": "45bec708-fd71-4d02-babb-c4c2282b8766",
   "metadata": {},
   "source": [
    "  "
   ]
  },
  {
   "cell_type": "markdown",
   "id": "157cf927-80da-4d57-8be6-6d04728a9f8f",
   "metadata": {},
   "source": [
    "  "
   ]
  },
  {
   "cell_type": "markdown",
   "id": "bcc0e13f-f7ef-4c81-ae14-ec5afe83cb23",
   "metadata": {},
   "source": [
    "  "
   ]
  },
  {
   "cell_type": "markdown",
   "id": "24e6d525-3666-4e79-b5ad-fe886a07bc29",
   "metadata": {},
   "source": [
    "  "
   ]
  },
  {
   "cell_type": "markdown",
   "id": "c0c6a0e1-7970-4896-9199-4a1bc1a9b612",
   "metadata": {},
   "source": [
    "  "
   ]
  },
  {
   "cell_type": "markdown",
   "id": "a1040edd-00ee-46f7-b61a-1769557585c6",
   "metadata": {},
   "source": [
    "# ROI Scatter"
   ]
  },
  {
   "cell_type": "code",
   "execution_count": null,
   "id": "887175d8-b8b2-480b-a4f6-2b3dc0393cdd",
   "metadata": {},
   "outputs": [],
   "source": [
    "df[\"yrs\"] = df[\"holding_days\"] / 252\n",
    "df[\"loss\"] = df[\"roi\"] < 0\n",
    "\n",
    "fig = px.scatter(df, x='yrs', y='roi', trendline='lowess', trendline_options=dict(frac=0.1), color=\"loss\")\n",
    "fig.update_layout(height=890, width=1890)\n",
    "fig.update_traces({'marker':{'size': 5}})\n",
    "fig.show()"
   ]
  }
 ],
 "metadata": {
  "kernelspec": {
   "display_name": "Python 3 (ipykernel)",
   "language": "python",
   "name": "python3"
  },
  "language_info": {
   "codemirror_mode": {
    "name": "ipython",
    "version": 3
   },
   "file_extension": ".py",
   "mimetype": "text/x-python",
   "name": "python",
   "nbconvert_exporter": "python",
   "pygments_lexer": "ipython3",
   "version": "3.12.4"
  }
 },
 "nbformat": 4,
 "nbformat_minor": 5
}
